{
 "cells": [
  {
   "cell_type": "markdown",
   "id": "81e451d2-fb45-4312-8948-5a3f0fd40fc6",
   "metadata": {},
   "source": [
    "The code helps to merge various json annotation files to make a single json file and then convert it to training format."
   ]
  },
  {
   "cell_type": "code",
   "execution_count": null,
   "id": "62d274b4-2c30-47fe-830f-4f64c1d1d711",
   "metadata": {},
   "outputs": [],
   "source": [
    "import os\n",
    "import json\n",
    "\n",
    "# Specify the folder path containing your JSON files\n",
    "folder_path = 'data'\n",
    "\n",
    "# Initialize an empty list to store the combined data\n",
    "combined_data = []\n",
    "\n",
    "# Iterate through each JSON file in the folder\n",
    "for filename in os.listdir(folder_path):\n",
    "    if filename.endswith('.json'):\n",
    "        file_path = os.path.join(folder_path, filename)\n",
    "        with open(file_path, 'r') as json_file:\n",
    "            data = json.load(json_file)\n",
    "            combined_data.append(data)\n",
    "\n",
    "# Write the combined data to a new JSON file\n",
    "output_file = 'combined_data.json'\n",
    "with open(output_file, 'w') as outfile:\n",
    "    json.dump(combined_data, outfile, indent=4)\n",
    "\n",
    "print(f\"Combined data written to {output_file}\")\n"
   ]
  },
  {
   "cell_type": "code",
   "execution_count": 4,
   "id": "bd6dafed-1f6c-4931-9b99-ade10c9392c0",
   "metadata": {},
   "outputs": [],
   "source": [
    "\n",
    "with open('combined_data.json', 'r') as f:\n",
    "    data = json.load(f)"
   ]
  },
  {
   "cell_type": "code",
   "execution_count": 49,
   "id": "9b842f91-d500-4d9d-b51b-51c28ff4c04f",
   "metadata": {},
   "outputs": [],
   "source": [
    "training_data = []\n",
    "for example in data:\n",
    "    i=0\n",
    "    j=0\n",
    "    temp_dict = {}\n",
    "    temp_dict['text'] = data[i]['annotations'][0][0]\n",
    "    # temp_dict['entities'] = []\n",
    "    for annotation in example['annotations']:\n",
    "        temp_dict['entities'] = data[j]['annotations'][0][1]['entities']\n",
    "    training_data.append(temp_dict)\n",
    "    i=i+1\n",
    "    j=j+1"
   ]
  },
  {
   "cell_type": "code",
   "execution_count": 50,
   "id": "500fca3b-61bd-458b-94e3-b5d96a380432",
   "metadata": {},
   "outputs": [
    {
     "data": {
      "text/plain": [
       "{'text': 'POOJITHA KEERTHI\\r\\nBAVURAPALLI\\r\\nA self-driven and meticulous B.Tech graduate in ECE, adept in HTML, CSS,\\r\\nJavaScript, SQL, and Python, with a keen interest in machine learning. Equipped\\r\\nwith a strong foundation in both technical and analytical skills, I am eager to apply\\r\\nmy knowledge to the field of data science. With a passion for uncovering insights\\r\\nand solving complex problems, I am eager to apply my expertise in a challenging\\r\\nnew environment where I can continue to grow professionally and make a\\r\\nmeaningful impact.\\r\\nEducation\\r\\nBTech in Electronics and Communication Engineering with 71%2021 - 2024\\r\\nUsha rama college of engineering and technology, JN TU kakinadaArtificial intelligence\\r\\nCSSJavaScriptPython\\r\\nHTMLSQLSkills\\r\\nDiploma, ECE With 78%2018 - 2021\\r\\nKrishnaveni polytechnic college Vijayawada\\r\\nSSC with 10 CGPA.2017 - 2018\\r\\nBhashyam public school+91 89198 84456              poojithakeerthibavurapalli@gmail.com\\r\\nwww.linkedin.com/poojitha-keerthi-bavurapalli Hyderabad\\r\\nSummary\\r\\nApplications Package\\r\\nMs Excel Ms word\\r\\nPower Point\\r\\n Strengths\\r\\nCommitment to the work.Ability to think on foot and make the\\r\\nright decisions under pressure.\\r\\nEncouraging others to question\\r\\nthe way things are done.Willing to be responsible and\\r\\naccountable for any success or\\r\\nfailure.Internships\\r\\nCyber security virtual internshipMay - 2022\\r\\nAICTE\\r\\nAWS Academy GraduateOct - 2022\\r\\nAWS Academy machine learning foundations - AWS\\r\\nAWS Academy GraduateOct - 2022\\r\\nAWS Academy Cloud foundations - AWSAI-ML Virtual InternshipSept - 2022\\r\\nAICTE\\r\\nSignal and telecommunication departmentJune-2023\\r\\nSouth central railwayInternships\\r\\nAI-ML Long term Internship Nov 2023 - April 2024\\r\\nArtificial Intelligence (AI) is a branch of compute r science\\r\\nfocused on creating systems that can perform tasks that\\r\\ntypically require human intelligence. These tasks i nclude\\r\\nunderstanding natural language, recognizing pattern s, solving\\r\\nproblems, and making decisions. AI encompasses a br oad range\\r\\nof techniques, including machine learning, deep lea rning, natural\\r\\nlanguage processing, computer vision, and robotics.  Its\\r\\napplications span various industries, from healthca re and\\r\\nfinance to transportation and entertainment, revolu tionizing\\r\\nhow we work, live, and interact with technology. AI  holds the\\r\\npromise of enhancing efficiency, productivity, and innovation\\r\\nwhile raising important ethical and societal questi ons about its\\r\\nimpact on jobs, privacy, and human autonomy.- BIST TECHNOLOGIES\\r\\nElectronic Devices Testing Long term\\r\\nInternshipNov 2023 - April 2024\\r\\n- RESOLUTE ELECTRONICS\\r\\nFunctionality Testing:\\r\\nVerify features align with manufacturer specificati ons.\\r\\nTest hardware components for proper operation.\\r\\nPerformance Testing:\\r\\nEvaluate device performance under varied conditions .\\r\\nMeasure parameters to meet standards.\\r\\nCompatibility Testing:\\r\\nTest device compatibility with systems and peripher als.\\r\\nEnsure interoperability with other devices.\\r\\nUsability Testing:\\r\\nAssess ease of use through tests with users.\\r\\nIdentify interface issues and challenges.\\r\\nReliability Testing:\\r\\nEvaluate device durability through stress tests.\\r\\nMeasure failure rates and longevity metrics.\\r\\nSafety Testing:\\r\\nEnsure compliance with safety standards.\\r\\nTest for potential hazards and implement safeguards .\\r\\nSecurity Testing:\\r\\nAssess security features and vulnerabilities.\\r\\nConduct tests to identify weaknesses.\\r\\nEnvironmental Testing:\\r\\nTest device performance under different conditions.\\r\\nEnsure compliance with environmental regulations.\\r\\nRegulatory Compliance Testing:\\r\\nVerify compliance with relevant standards.\\r\\nPrepare documentation for certification.\\r\\nField Testing:\\r\\nConduct real-world tests to validate performance.\\r\\nGather feedback for\\xa0improvement.Achievements & Activities\\r\\nDistrict level championship runner up\\r\\nin cricket, krishna district cricket\\r\\nassociation, AP.\\r\\nDistrict level championship runner up\\r\\nin rifle shooting, AP.\\r\\nA cadet certified, 4(A), Girls BN NCC,\\r\\nVij,AP-2018.\\r\\nNSS Activity: Community service\\r\\nproject (CSP).\\r\\nTITLE: Usage of cell phones\\r\\nLanguage\\r\\nEnglish\\r\\nTeluguAcademic Projects\\r\\nTITLE: \\r\\nAn optimized link state routing\\r\\nprotocol for real-time application\\r\\nover vehicular ad-hoc network.\\r\\nDESCRIPTION:\\r\\nAn optimized link state routing\\r\\nprotocol tailored for real time\\r\\napplications over vehicular ad-hoc\\r\\nnetworks combines advantages of\\r\\nOLSRs proactive approach with\\r\\noptimizations for dynamic vehicular\\r\\nenvironments, providing a robust\\r\\nand efficient communication\\r\\ninfrastructure for a variety of real-\\r\\ntime applications in VANETS.',\n",
       " 'entities': [[0, 29, 'NAME'],\n",
       "  [540, 590, 'EDUCATION1'],\n",
       "  [599, 603, 'EDOJ1'],\n",
       "  [606, 610, 'EDOE1'],\n",
       "  [667, 698, 'SKILLS'],\n",
       "  [700, 719, 'SKILLS'],\n",
       "  [721, 734, 'SKILLS'],\n",
       "  [860, 881, 'PHONE'],\n",
       "  [895, 931, 'EMAIL'],\n",
       "  [933, 978, 'LINKEDIN_PROFILE'],\n",
       "  [1299, 1335, 'WORK1'],\n",
       "  [1338, 1342, 'WDOE1'],\n",
       "  [1344, 1374, 'WORK2'],\n",
       "  [1377, 1381, 'WDOE2'],\n",
       "  [4120, 4219, 'PROJECT']]}"
      ]
     },
     "execution_count": 50,
     "metadata": {},
     "output_type": "execute_result"
    }
   ],
   "source": [
    "training_data[0]"
   ]
  },
  {
   "cell_type": "code",
   "execution_count": 51,
   "id": "e24def92-2883-414c-ab78-33fc617c62c9",
   "metadata": {},
   "outputs": [
    {
     "data": {
      "text/plain": [
       "'POOJITHA KEERTHI\\r\\nBAVURAPALLI\\r\\nA self-driven and meticulous B.Tech graduate in ECE, adept in HTML, CSS,\\r\\nJavaScript, SQL, and Python, with a keen interest in machine learning. Equipped\\r\\nwith a strong foundation in both technical and analytical skills, I am eager to apply\\r\\nmy knowledge to the field of data science. With a passion for uncovering insights\\r\\nand solving complex problems, I am eager to apply my expertise in a challenging\\r\\nnew environment where I can continue to grow professionally and make a\\r\\nmeaningful impact.\\r\\nEducation\\r\\nBTech in Electronics and Communication Engineering with 71%2021 - 2024\\r\\nUsha rama college of engineering and technology, JN TU kakinadaArtificial intelligence\\r\\nCSSJavaScriptPython\\r\\nHTMLSQLSkills\\r\\nDiploma, ECE With 78%2018 - 2021\\r\\nKrishnaveni polytechnic college Vijayawada\\r\\nSSC with 10 CGPA.2017 - 2018\\r\\nBhashyam public school+91 89198 84456              poojithakeerthibavurapalli@gmail.com\\r\\nwww.linkedin.com/poojitha-keerthi-bavurapalli Hyderabad\\r\\nSummary\\r\\nApplications Package\\r\\nMs Excel Ms word\\r\\nPower Point\\r\\n Strengths\\r\\nCommitment to the work.Ability to think on foot and make the\\r\\nright decisions under pressure.\\r\\nEncouraging others to question\\r\\nthe way things are done.Willing to be responsible and\\r\\naccountable for any success or\\r\\nfailure.Internships\\r\\nCyber security virtual internshipMay - 2022\\r\\nAICTE\\r\\nAWS Academy GraduateOct - 2022\\r\\nAWS Academy machine learning foundations - AWS\\r\\nAWS Academy GraduateOct - 2022\\r\\nAWS Academy Cloud foundations - AWSAI-ML Virtual InternshipSept - 2022\\r\\nAICTE\\r\\nSignal and telecommunication departmentJune-2023\\r\\nSouth central railwayInternships\\r\\nAI-ML Long term Internship Nov 2023 - April 2024\\r\\nArtificial Intelligence (AI) is a branch of compute r science\\r\\nfocused on creating systems that can perform tasks that\\r\\ntypically require human intelligence. These tasks i nclude\\r\\nunderstanding natural language, recognizing pattern s, solving\\r\\nproblems, and making decisions. AI encompasses a br oad range\\r\\nof techniques, including machine learning, deep lea rning, natural\\r\\nlanguage processing, computer vision, and robotics.  Its\\r\\napplications span various industries, from healthca re and\\r\\nfinance to transportation and entertainment, revolu tionizing\\r\\nhow we work, live, and interact with technology. AI  holds the\\r\\npromise of enhancing efficiency, productivity, and innovation\\r\\nwhile raising important ethical and societal questi ons about its\\r\\nimpact on jobs, privacy, and human autonomy.- BIST TECHNOLOGIES\\r\\nElectronic Devices Testing Long term\\r\\nInternshipNov 2023 - April 2024\\r\\n- RESOLUTE ELECTRONICS\\r\\nFunctionality Testing:\\r\\nVerify features align with manufacturer specificati ons.\\r\\nTest hardware components for proper operation.\\r\\nPerformance Testing:\\r\\nEvaluate device performance under varied conditions .\\r\\nMeasure parameters to meet standards.\\r\\nCompatibility Testing:\\r\\nTest device compatibility with systems and peripher als.\\r\\nEnsure interoperability with other devices.\\r\\nUsability Testing:\\r\\nAssess ease of use through tests with users.\\r\\nIdentify interface issues and challenges.\\r\\nReliability Testing:\\r\\nEvaluate device durability through stress tests.\\r\\nMeasure failure rates and longevity metrics.\\r\\nSafety Testing:\\r\\nEnsure compliance with safety standards.\\r\\nTest for potential hazards and implement safeguards .\\r\\nSecurity Testing:\\r\\nAssess security features and vulnerabilities.\\r\\nConduct tests to identify weaknesses.\\r\\nEnvironmental Testing:\\r\\nTest device performance under different conditions.\\r\\nEnsure compliance with environmental regulations.\\r\\nRegulatory Compliance Testing:\\r\\nVerify compliance with relevant standards.\\r\\nPrepare documentation for certification.\\r\\nField Testing:\\r\\nConduct real-world tests to validate performance.\\r\\nGather feedback for\\xa0improvement.Achievements & Activities\\r\\nDistrict level championship runner up\\r\\nin cricket, krishna district cricket\\r\\nassociation, AP.\\r\\nDistrict level championship runner up\\r\\nin rifle shooting, AP.\\r\\nA cadet certified, 4(A), Girls BN NCC,\\r\\nVij,AP-2018.\\r\\nNSS Activity: Community service\\r\\nproject (CSP).\\r\\nTITLE: Usage of cell phones\\r\\nLanguage\\r\\nEnglish\\r\\nTeluguAcademic Projects\\r\\nTITLE: \\r\\nAn optimized link state routing\\r\\nprotocol for real-time application\\r\\nover vehicular ad-hoc network.\\r\\nDESCRIPTION:\\r\\nAn optimized link state routing\\r\\nprotocol tailored for real time\\r\\napplications over vehicular ad-hoc\\r\\nnetworks combines advantages of\\r\\nOLSRs proactive approach with\\r\\noptimizations for dynamic vehicular\\r\\nenvironments, providing a robust\\r\\nand efficient communication\\r\\ninfrastructure for a variety of real-\\r\\ntime applications in VANETS.'"
      ]
     },
     "execution_count": 51,
     "metadata": {},
     "output_type": "execute_result"
    }
   ],
   "source": [
    "training_data[0]['text']"
   ]
  },
  {
   "cell_type": "code",
   "execution_count": 52,
   "id": "bf175407-cd40-4b82-a5ec-07696ef4d2af",
   "metadata": {},
   "outputs": [
    {
     "data": {
      "text/plain": [
       "[[0, 29, 'NAME'],\n",
       " [540, 590, 'EDUCATION1'],\n",
       " [599, 603, 'EDOJ1'],\n",
       " [606, 610, 'EDOE1'],\n",
       " [667, 698, 'SKILLS'],\n",
       " [700, 719, 'SKILLS'],\n",
       " [721, 734, 'SKILLS'],\n",
       " [860, 881, 'PHONE'],\n",
       " [895, 931, 'EMAIL'],\n",
       " [933, 978, 'LINKEDIN_PROFILE'],\n",
       " [1299, 1335, 'WORK1'],\n",
       " [1338, 1342, 'WDOE1'],\n",
       " [1344, 1374, 'WORK2'],\n",
       " [1377, 1381, 'WDOE2'],\n",
       " [4120, 4219, 'PROJECT']]"
      ]
     },
     "execution_count": 52,
     "metadata": {},
     "output_type": "execute_result"
    }
   ],
   "source": [
    "training_data[0]['entities']"
   ]
  },
  {
   "cell_type": "code",
   "execution_count": null,
   "id": "ce09d25a-1265-4a20-87b8-8c2530fb74a5",
   "metadata": {},
   "outputs": [],
   "source": []
  }
 ],
 "metadata": {
  "kernelspec": {
   "display_name": "Python 3 (ipykernel)",
   "language": "python",
   "name": "python3"
  },
  "language_info": {
   "codemirror_mode": {
    "name": "ipython",
    "version": 3
   },
   "file_extension": ".py",
   "mimetype": "text/x-python",
   "name": "python",
   "nbconvert_exporter": "python",
   "pygments_lexer": "ipython3",
   "version": "3.10.12"
  }
 },
 "nbformat": 4,
 "nbformat_minor": 5
}
